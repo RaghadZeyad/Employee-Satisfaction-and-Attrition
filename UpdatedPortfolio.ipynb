{
  "nbformat": 4,
  "nbformat_minor": 0,
  "metadata": {
    "colab": {
      "provenance": []
    },
    "kernelspec": {
      "name": "python3",
      "display_name": "Python 3"
    },
    "language_info": {
      "name": "python"
    }
  },
  "cells": [
    {
      "cell_type": "markdown",
      "source": [
        "# Uploading And Prepearing"
      ],
      "metadata": {
        "id": "pFyocM67wZ6D"
      }
    },
    {
      "cell_type": "code",
      "source": [
        "from google.colab import files\n",
        "uploaded = files.upload()"
      ],
      "metadata": {
        "colab": {
          "base_uri": "https://localhost:8080/",
          "height": 73
        },
        "id": "wjQ_Tkauv6_W",
        "outputId": "340b09cb-eb21-45d7-bea7-31b2b69a69a5"
      },
      "execution_count": null,
      "outputs": [
        {
          "output_type": "display_data",
          "data": {
            "text/plain": [
              "<IPython.core.display.HTML object>"
            ],
            "text/html": [
              "\n",
              "     <input type=\"file\" id=\"files-1c823482-5223-44ad-9771-4a49e1f0fc9e\" name=\"files[]\" multiple disabled\n",
              "        style=\"border:none\" />\n",
              "     <output id=\"result-1c823482-5223-44ad-9771-4a49e1f0fc9e\">\n",
              "      Upload widget is only available when the cell has been executed in the\n",
              "      current browser session. Please rerun this cell to enable.\n",
              "      </output>\n",
              "      <script>// Copyright 2017 Google LLC\n",
              "//\n",
              "// Licensed under the Apache License, Version 2.0 (the \"License\");\n",
              "// you may not use this file except in compliance with the License.\n",
              "// You may obtain a copy of the License at\n",
              "//\n",
              "//      http://www.apache.org/licenses/LICENSE-2.0\n",
              "//\n",
              "// Unless required by applicable law or agreed to in writing, software\n",
              "// distributed under the License is distributed on an \"AS IS\" BASIS,\n",
              "// WITHOUT WARRANTIES OR CONDITIONS OF ANY KIND, either express or implied.\n",
              "// See the License for the specific language governing permissions and\n",
              "// limitations under the License.\n",
              "\n",
              "/**\n",
              " * @fileoverview Helpers for google.colab Python module.\n",
              " */\n",
              "(function(scope) {\n",
              "function span(text, styleAttributes = {}) {\n",
              "  const element = document.createElement('span');\n",
              "  element.textContent = text;\n",
              "  for (const key of Object.keys(styleAttributes)) {\n",
              "    element.style[key] = styleAttributes[key];\n",
              "  }\n",
              "  return element;\n",
              "}\n",
              "\n",
              "// Max number of bytes which will be uploaded at a time.\n",
              "const MAX_PAYLOAD_SIZE = 100 * 1024;\n",
              "\n",
              "function _uploadFiles(inputId, outputId) {\n",
              "  const steps = uploadFilesStep(inputId, outputId);\n",
              "  const outputElement = document.getElementById(outputId);\n",
              "  // Cache steps on the outputElement to make it available for the next call\n",
              "  // to uploadFilesContinue from Python.\n",
              "  outputElement.steps = steps;\n",
              "\n",
              "  return _uploadFilesContinue(outputId);\n",
              "}\n",
              "\n",
              "// This is roughly an async generator (not supported in the browser yet),\n",
              "// where there are multiple asynchronous steps and the Python side is going\n",
              "// to poll for completion of each step.\n",
              "// This uses a Promise to block the python side on completion of each step,\n",
              "// then passes the result of the previous step as the input to the next step.\n",
              "function _uploadFilesContinue(outputId) {\n",
              "  const outputElement = document.getElementById(outputId);\n",
              "  const steps = outputElement.steps;\n",
              "\n",
              "  const next = steps.next(outputElement.lastPromiseValue);\n",
              "  return Promise.resolve(next.value.promise).then((value) => {\n",
              "    // Cache the last promise value to make it available to the next\n",
              "    // step of the generator.\n",
              "    outputElement.lastPromiseValue = value;\n",
              "    return next.value.response;\n",
              "  });\n",
              "}\n",
              "\n",
              "/**\n",
              " * Generator function which is called between each async step of the upload\n",
              " * process.\n",
              " * @param {string} inputId Element ID of the input file picker element.\n",
              " * @param {string} outputId Element ID of the output display.\n",
              " * @return {!Iterable<!Object>} Iterable of next steps.\n",
              " */\n",
              "function* uploadFilesStep(inputId, outputId) {\n",
              "  const inputElement = document.getElementById(inputId);\n",
              "  inputElement.disabled = false;\n",
              "\n",
              "  const outputElement = document.getElementById(outputId);\n",
              "  outputElement.innerHTML = '';\n",
              "\n",
              "  const pickedPromise = new Promise((resolve) => {\n",
              "    inputElement.addEventListener('change', (e) => {\n",
              "      resolve(e.target.files);\n",
              "    });\n",
              "  });\n",
              "\n",
              "  const cancel = document.createElement('button');\n",
              "  inputElement.parentElement.appendChild(cancel);\n",
              "  cancel.textContent = 'Cancel upload';\n",
              "  const cancelPromise = new Promise((resolve) => {\n",
              "    cancel.onclick = () => {\n",
              "      resolve(null);\n",
              "    };\n",
              "  });\n",
              "\n",
              "  // Wait for the user to pick the files.\n",
              "  const files = yield {\n",
              "    promise: Promise.race([pickedPromise, cancelPromise]),\n",
              "    response: {\n",
              "      action: 'starting',\n",
              "    }\n",
              "  };\n",
              "\n",
              "  cancel.remove();\n",
              "\n",
              "  // Disable the input element since further picks are not allowed.\n",
              "  inputElement.disabled = true;\n",
              "\n",
              "  if (!files) {\n",
              "    return {\n",
              "      response: {\n",
              "        action: 'complete',\n",
              "      }\n",
              "    };\n",
              "  }\n",
              "\n",
              "  for (const file of files) {\n",
              "    const li = document.createElement('li');\n",
              "    li.append(span(file.name, {fontWeight: 'bold'}));\n",
              "    li.append(span(\n",
              "        `(${file.type || 'n/a'}) - ${file.size} bytes, ` +\n",
              "        `last modified: ${\n",
              "            file.lastModifiedDate ? file.lastModifiedDate.toLocaleDateString() :\n",
              "                                    'n/a'} - `));\n",
              "    const percent = span('0% done');\n",
              "    li.appendChild(percent);\n",
              "\n",
              "    outputElement.appendChild(li);\n",
              "\n",
              "    const fileDataPromise = new Promise((resolve) => {\n",
              "      const reader = new FileReader();\n",
              "      reader.onload = (e) => {\n",
              "        resolve(e.target.result);\n",
              "      };\n",
              "      reader.readAsArrayBuffer(file);\n",
              "    });\n",
              "    // Wait for the data to be ready.\n",
              "    let fileData = yield {\n",
              "      promise: fileDataPromise,\n",
              "      response: {\n",
              "        action: 'continue',\n",
              "      }\n",
              "    };\n",
              "\n",
              "    // Use a chunked sending to avoid message size limits. See b/62115660.\n",
              "    let position = 0;\n",
              "    do {\n",
              "      const length = Math.min(fileData.byteLength - position, MAX_PAYLOAD_SIZE);\n",
              "      const chunk = new Uint8Array(fileData, position, length);\n",
              "      position += length;\n",
              "\n",
              "      const base64 = btoa(String.fromCharCode.apply(null, chunk));\n",
              "      yield {\n",
              "        response: {\n",
              "          action: 'append',\n",
              "          file: file.name,\n",
              "          data: base64,\n",
              "        },\n",
              "      };\n",
              "\n",
              "      let percentDone = fileData.byteLength === 0 ?\n",
              "          100 :\n",
              "          Math.round((position / fileData.byteLength) * 100);\n",
              "      percent.textContent = `${percentDone}% done`;\n",
              "\n",
              "    } while (position < fileData.byteLength);\n",
              "  }\n",
              "\n",
              "  // All done.\n",
              "  yield {\n",
              "    response: {\n",
              "      action: 'complete',\n",
              "    }\n",
              "  };\n",
              "}\n",
              "\n",
              "scope.google = scope.google || {};\n",
              "scope.google.colab = scope.google.colab || {};\n",
              "scope.google.colab._files = {\n",
              "  _uploadFiles,\n",
              "  _uploadFilesContinue,\n",
              "};\n",
              "})(self);\n",
              "</script> "
            ]
          },
          "metadata": {}
        },
        {
          "output_type": "stream",
          "name": "stdout",
          "text": [
            "Saving Employee.csv to Employee.csv\n"
          ]
        }
      ]
    },
    {
      "cell_type": "code",
      "source": [
        "uploaded = files.upload()"
      ],
      "metadata": {
        "colab": {
          "base_uri": "https://localhost:8080/",
          "height": 73
        },
        "outputId": "0e6a3581-770c-4678-99cc-a32746366af8",
        "id": "-C3tSJsLwIla"
      },
      "execution_count": null,
      "outputs": [
        {
          "output_type": "display_data",
          "data": {
            "text/plain": [
              "<IPython.core.display.HTML object>"
            ],
            "text/html": [
              "\n",
              "     <input type=\"file\" id=\"files-591789a7-9003-43ea-8200-2a973ec521f0\" name=\"files[]\" multiple disabled\n",
              "        style=\"border:none\" />\n",
              "     <output id=\"result-591789a7-9003-43ea-8200-2a973ec521f0\">\n",
              "      Upload widget is only available when the cell has been executed in the\n",
              "      current browser session. Please rerun this cell to enable.\n",
              "      </output>\n",
              "      <script>// Copyright 2017 Google LLC\n",
              "//\n",
              "// Licensed under the Apache License, Version 2.0 (the \"License\");\n",
              "// you may not use this file except in compliance with the License.\n",
              "// You may obtain a copy of the License at\n",
              "//\n",
              "//      http://www.apache.org/licenses/LICENSE-2.0\n",
              "//\n",
              "// Unless required by applicable law or agreed to in writing, software\n",
              "// distributed under the License is distributed on an \"AS IS\" BASIS,\n",
              "// WITHOUT WARRANTIES OR CONDITIONS OF ANY KIND, either express or implied.\n",
              "// See the License for the specific language governing permissions and\n",
              "// limitations under the License.\n",
              "\n",
              "/**\n",
              " * @fileoverview Helpers for google.colab Python module.\n",
              " */\n",
              "(function(scope) {\n",
              "function span(text, styleAttributes = {}) {\n",
              "  const element = document.createElement('span');\n",
              "  element.textContent = text;\n",
              "  for (const key of Object.keys(styleAttributes)) {\n",
              "    element.style[key] = styleAttributes[key];\n",
              "  }\n",
              "  return element;\n",
              "}\n",
              "\n",
              "// Max number of bytes which will be uploaded at a time.\n",
              "const MAX_PAYLOAD_SIZE = 100 * 1024;\n",
              "\n",
              "function _uploadFiles(inputId, outputId) {\n",
              "  const steps = uploadFilesStep(inputId, outputId);\n",
              "  const outputElement = document.getElementById(outputId);\n",
              "  // Cache steps on the outputElement to make it available for the next call\n",
              "  // to uploadFilesContinue from Python.\n",
              "  outputElement.steps = steps;\n",
              "\n",
              "  return _uploadFilesContinue(outputId);\n",
              "}\n",
              "\n",
              "// This is roughly an async generator (not supported in the browser yet),\n",
              "// where there are multiple asynchronous steps and the Python side is going\n",
              "// to poll for completion of each step.\n",
              "// This uses a Promise to block the python side on completion of each step,\n",
              "// then passes the result of the previous step as the input to the next step.\n",
              "function _uploadFilesContinue(outputId) {\n",
              "  const outputElement = document.getElementById(outputId);\n",
              "  const steps = outputElement.steps;\n",
              "\n",
              "  const next = steps.next(outputElement.lastPromiseValue);\n",
              "  return Promise.resolve(next.value.promise).then((value) => {\n",
              "    // Cache the last promise value to make it available to the next\n",
              "    // step of the generator.\n",
              "    outputElement.lastPromiseValue = value;\n",
              "    return next.value.response;\n",
              "  });\n",
              "}\n",
              "\n",
              "/**\n",
              " * Generator function which is called between each async step of the upload\n",
              " * process.\n",
              " * @param {string} inputId Element ID of the input file picker element.\n",
              " * @param {string} outputId Element ID of the output display.\n",
              " * @return {!Iterable<!Object>} Iterable of next steps.\n",
              " */\n",
              "function* uploadFilesStep(inputId, outputId) {\n",
              "  const inputElement = document.getElementById(inputId);\n",
              "  inputElement.disabled = false;\n",
              "\n",
              "  const outputElement = document.getElementById(outputId);\n",
              "  outputElement.innerHTML = '';\n",
              "\n",
              "  const pickedPromise = new Promise((resolve) => {\n",
              "    inputElement.addEventListener('change', (e) => {\n",
              "      resolve(e.target.files);\n",
              "    });\n",
              "  });\n",
              "\n",
              "  const cancel = document.createElement('button');\n",
              "  inputElement.parentElement.appendChild(cancel);\n",
              "  cancel.textContent = 'Cancel upload';\n",
              "  const cancelPromise = new Promise((resolve) => {\n",
              "    cancel.onclick = () => {\n",
              "      resolve(null);\n",
              "    };\n",
              "  });\n",
              "\n",
              "  // Wait for the user to pick the files.\n",
              "  const files = yield {\n",
              "    promise: Promise.race([pickedPromise, cancelPromise]),\n",
              "    response: {\n",
              "      action: 'starting',\n",
              "    }\n",
              "  };\n",
              "\n",
              "  cancel.remove();\n",
              "\n",
              "  // Disable the input element since further picks are not allowed.\n",
              "  inputElement.disabled = true;\n",
              "\n",
              "  if (!files) {\n",
              "    return {\n",
              "      response: {\n",
              "        action: 'complete',\n",
              "      }\n",
              "    };\n",
              "  }\n",
              "\n",
              "  for (const file of files) {\n",
              "    const li = document.createElement('li');\n",
              "    li.append(span(file.name, {fontWeight: 'bold'}));\n",
              "    li.append(span(\n",
              "        `(${file.type || 'n/a'}) - ${file.size} bytes, ` +\n",
              "        `last modified: ${\n",
              "            file.lastModifiedDate ? file.lastModifiedDate.toLocaleDateString() :\n",
              "                                    'n/a'} - `));\n",
              "    const percent = span('0% done');\n",
              "    li.appendChild(percent);\n",
              "\n",
              "    outputElement.appendChild(li);\n",
              "\n",
              "    const fileDataPromise = new Promise((resolve) => {\n",
              "      const reader = new FileReader();\n",
              "      reader.onload = (e) => {\n",
              "        resolve(e.target.result);\n",
              "      };\n",
              "      reader.readAsArrayBuffer(file);\n",
              "    });\n",
              "    // Wait for the data to be ready.\n",
              "    let fileData = yield {\n",
              "      promise: fileDataPromise,\n",
              "      response: {\n",
              "        action: 'continue',\n",
              "      }\n",
              "    };\n",
              "\n",
              "    // Use a chunked sending to avoid message size limits. See b/62115660.\n",
              "    let position = 0;\n",
              "    do {\n",
              "      const length = Math.min(fileData.byteLength - position, MAX_PAYLOAD_SIZE);\n",
              "      const chunk = new Uint8Array(fileData, position, length);\n",
              "      position += length;\n",
              "\n",
              "      const base64 = btoa(String.fromCharCode.apply(null, chunk));\n",
              "      yield {\n",
              "        response: {\n",
              "          action: 'append',\n",
              "          file: file.name,\n",
              "          data: base64,\n",
              "        },\n",
              "      };\n",
              "\n",
              "      let percentDone = fileData.byteLength === 0 ?\n",
              "          100 :\n",
              "          Math.round((position / fileData.byteLength) * 100);\n",
              "      percent.textContent = `${percentDone}% done`;\n",
              "\n",
              "    } while (position < fileData.byteLength);\n",
              "  }\n",
              "\n",
              "  // All done.\n",
              "  yield {\n",
              "    response: {\n",
              "      action: 'complete',\n",
              "    }\n",
              "  };\n",
              "}\n",
              "\n",
              "scope.google = scope.google || {};\n",
              "scope.google.colab = scope.google.colab || {};\n",
              "scope.google.colab._files = {\n",
              "  _uploadFiles,\n",
              "  _uploadFilesContinue,\n",
              "};\n",
              "})(self);\n",
              "</script> "
            ]
          },
          "metadata": {}
        },
        {
          "output_type": "stream",
          "name": "stdout",
          "text": [
            "Saving PerformanceRating.csv to PerformanceRating.csv\n"
          ]
        }
      ]
    },
    {
      "cell_type": "code",
      "source": [
        "import pandas as pd"
      ],
      "metadata": {
        "id": "1w1y16EQcKGA"
      },
      "execution_count": null,
      "outputs": []
    },
    {
      "cell_type": "code",
      "source": [
        "df1 = pd.read_csv(\"Employee.csv\")\n",
        "df2 = pd.read_csv(\"PerformanceRating.csv\")"
      ],
      "metadata": {
        "id": "laZoW2i_wNiZ"
      },
      "execution_count": null,
      "outputs": []
    },
    {
      "cell_type": "markdown",
      "source": [
        "# Data Profiling"
      ],
      "metadata": {
        "id": "YFyK-GAgwqh3"
      }
    },
    {
      "cell_type": "markdown",
      "source": [
        "## First Table (Employee=df1)"
      ],
      "metadata": {
        "id": "08iDi1-mxUb7"
      }
    },
    {
      "cell_type": "code",
      "source": [
        "print(df1.head())"
      ],
      "metadata": {
        "colab": {
          "base_uri": "https://localhost:8080/"
        },
        "id": "5AmgUYjjwWX2",
        "outputId": "8f20d218-97f6-4937-aa8f-a6920a2b8455"
      },
      "execution_count": null,
      "outputs": [
        {
          "output_type": "stream",
          "name": "stdout",
          "text": [
            "  EmployeeID   FirstName LastName      Gender  Age BusinessTravel  \\\n",
            "0  3012-1A41    Leonelle    Simco      Female   30    Some Travel   \n",
            "1  CBCB-9C9D     Leonerd    Aland        Male   38    Some Travel   \n",
            "2  95D7-1CE9       Ahmed    Sykes        Male   43    Some Travel   \n",
            "3  47A0-559B  Ermentrude   Berrie  Non-Binary   39    Some Travel   \n",
            "4  42CC-040A       Stace   Savege      Female   29    Some Travel   \n",
            "\n",
            "        Department  DistanceFromHome (KM) State                Ethnicity  ...  \\\n",
            "0            Sales                     27    IL                    White  ...   \n",
            "1            Sales                     23    CA                    White  ...   \n",
            "2  Human Resources                     29    CA  Asian or Asian American  ...   \n",
            "3       Technology                     12    IL                    White  ...   \n",
            "4  Human Resources                     29    CA                    White  ...   \n",
            "\n",
            "   MaritalStatus  Salary StockOptionLevel OverTime    HireDate  Attrition  \\\n",
            "0       Divorced  102059                1       No  2012-01-03         No   \n",
            "1         Single  157718                0      Yes  2012-01-04         No   \n",
            "2        Married  309964                1       No  2012-01-04         No   \n",
            "3        Married  293132                0       No  2012-01-05         No   \n",
            "4         Single   49606                0       No  2012-01-05        Yes   \n",
            "\n",
            "  YearsAtCompany YearsInMostRecentRole YearsSinceLastPromotion  \\\n",
            "0             10                     4                       9   \n",
            "1             10                     6                      10   \n",
            "2             10                     6                      10   \n",
            "3             10                    10                      10   \n",
            "4              6                     1                       1   \n",
            "\n",
            "   YearsWithCurrManager  \n",
            "0                     7  \n",
            "1                     0  \n",
            "2                     8  \n",
            "3                     0  \n",
            "4                     6  \n",
            "\n",
            "[5 rows x 23 columns]\n"
          ]
        }
      ]
    },
    {
      "cell_type": "code",
      "source": [
        "print(df1.info())"
      ],
      "metadata": {
        "colab": {
          "base_uri": "https://localhost:8080/"
        },
        "id": "n6TbRuinw10Z",
        "outputId": "4e1bda99-4fba-4d5a-db40-faa482937eb4"
      },
      "execution_count": null,
      "outputs": [
        {
          "output_type": "stream",
          "name": "stdout",
          "text": [
            "<class 'pandas.core.frame.DataFrame'>\n",
            "RangeIndex: 1470 entries, 0 to 1469\n",
            "Data columns (total 23 columns):\n",
            " #   Column                   Non-Null Count  Dtype \n",
            "---  ------                   --------------  ----- \n",
            " 0   EmployeeID               1470 non-null   object\n",
            " 1   FirstName                1470 non-null   object\n",
            " 2   LastName                 1470 non-null   object\n",
            " 3   Gender                   1470 non-null   object\n",
            " 4   Age                      1470 non-null   int64 \n",
            " 5   BusinessTravel           1470 non-null   object\n",
            " 6   Department               1470 non-null   object\n",
            " 7   DistanceFromHome (KM)    1470 non-null   int64 \n",
            " 8   State                    1470 non-null   object\n",
            " 9   Ethnicity                1470 non-null   object\n",
            " 10  Education                1470 non-null   int64 \n",
            " 11  EducationField           1470 non-null   object\n",
            " 12  JobRole                  1470 non-null   object\n",
            " 13  MaritalStatus            1470 non-null   object\n",
            " 14  Salary                   1470 non-null   int64 \n",
            " 15  StockOptionLevel         1470 non-null   int64 \n",
            " 16  OverTime                 1470 non-null   object\n",
            " 17  HireDate                 1470 non-null   object\n",
            " 18  Attrition                1470 non-null   object\n",
            " 19  YearsAtCompany           1470 non-null   int64 \n",
            " 20  YearsInMostRecentRole    1470 non-null   int64 \n",
            " 21  YearsSinceLastPromotion  1470 non-null   int64 \n",
            " 22  YearsWithCurrManager     1470 non-null   int64 \n",
            "dtypes: int64(9), object(14)\n",
            "memory usage: 264.3+ KB\n",
            "None\n"
          ]
        }
      ]
    },
    {
      "cell_type": "code",
      "source": [
        "print(df1.describe())"
      ],
      "metadata": {
        "colab": {
          "base_uri": "https://localhost:8080/"
        },
        "id": "zB7tESKjw7U-",
        "outputId": "7435cc8d-ab8d-45a8-c9e9-4f209c70e4ee"
      },
      "execution_count": null,
      "outputs": [
        {
          "output_type": "stream",
          "name": "stdout",
          "text": [
            "               Age  DistanceFromHome (KM)    Education         Salary  \\\n",
            "count  1470.000000            1470.000000  1470.000000    1470.000000   \n",
            "mean     28.989796              22.502721     2.912925  112956.497959   \n",
            "std       7.993055              12.811124     1.024165  103342.889222   \n",
            "min      18.000000               1.000000     1.000000   20387.000000   \n",
            "25%      23.000000              12.000000     2.000000   43580.500000   \n",
            "50%      26.000000              22.000000     3.000000   71199.500000   \n",
            "75%      34.000000              33.000000     4.000000  142055.750000   \n",
            "max      51.000000              45.000000     5.000000  547204.000000   \n",
            "\n",
            "       StockOptionLevel  YearsAtCompany  YearsInMostRecentRole  \\\n",
            "count       1470.000000     1470.000000            1470.000000   \n",
            "mean           0.793878        4.562585               2.293197   \n",
            "std            0.852077        3.288048               2.539093   \n",
            "min            0.000000        0.000000               0.000000   \n",
            "25%            0.000000        2.000000               0.000000   \n",
            "50%            1.000000        4.000000               1.000000   \n",
            "75%            1.000000        7.000000               4.000000   \n",
            "max            3.000000       10.000000              10.000000   \n",
            "\n",
            "       YearsSinceLastPromotion  YearsWithCurrManager  \n",
            "count              1470.000000           1470.000000  \n",
            "mean                  3.440816              2.239456  \n",
            "std                   2.945194              2.505774  \n",
            "min                   0.000000              0.000000  \n",
            "25%                   1.000000              0.000000  \n",
            "50%                   3.000000              1.000000  \n",
            "75%                   6.000000              4.000000  \n",
            "max                  10.000000             10.000000  \n"
          ]
        }
      ]
    },
    {
      "cell_type": "markdown",
      "source": [
        "## Second Table (PerformanceRating=df2)"
      ],
      "metadata": {
        "id": "DuVdTTCPxbAY"
      }
    },
    {
      "cell_type": "code",
      "source": [
        "print(df2.head())"
      ],
      "metadata": {
        "colab": {
          "base_uri": "https://localhost:8080/"
        },
        "outputId": "4bfc0262-f96e-4b4b-e722-a889777a9225",
        "id": "3DYJCfpyyDE7"
      },
      "execution_count": null,
      "outputs": [
        {
          "output_type": "stream",
          "name": "stdout",
          "text": [
            "  PerformanceID EmployeeID ReviewDate  EnvironmentSatisfaction  \\\n",
            "0          PR01  79F7-78EC   1/2/2013                        5   \n",
            "1          PR02  B61E-0F26   1/3/2013                        5   \n",
            "2          PR03  F5E3-48BB   1/3/2013                        3   \n",
            "3          PR04  0678-748A   1/4/2013                        5   \n",
            "4          PR05  541F-3E19   1/4/2013                        5   \n",
            "\n",
            "   JobSatisfaction  RelationshipSatisfaction  TrainingOpportunitiesWithinYear  \\\n",
            "0                4                         5                                1   \n",
            "1                4                         4                                1   \n",
            "2                4                         5                                3   \n",
            "3                3                         2                                2   \n",
            "4                2                         3                                1   \n",
            "\n",
            "   TrainingOpportunitiesTaken  WorkLifeBalance  SelfRating  ManagerRating  \n",
            "0                           0                4           4              4  \n",
            "1                           3                4           4              3  \n",
            "2                           2                3           5              4  \n",
            "3                           0                2           3              2  \n",
            "4                           0                4           4              3  \n"
          ]
        }
      ]
    },
    {
      "cell_type": "code",
      "source": [
        "print(df2.info())"
      ],
      "metadata": {
        "colab": {
          "base_uri": "https://localhost:8080/"
        },
        "id": "QA3fwN3ryEQd",
        "outputId": "943c6651-8160-4e7c-cdd0-7279a645ee17"
      },
      "execution_count": null,
      "outputs": [
        {
          "output_type": "stream",
          "name": "stdout",
          "text": [
            "<class 'pandas.core.frame.DataFrame'>\n",
            "RangeIndex: 6709 entries, 0 to 6708\n",
            "Data columns (total 11 columns):\n",
            " #   Column                           Non-Null Count  Dtype \n",
            "---  ------                           --------------  ----- \n",
            " 0   PerformanceID                    6709 non-null   object\n",
            " 1   EmployeeID                       6709 non-null   object\n",
            " 2   ReviewDate                       6709 non-null   object\n",
            " 3   EnvironmentSatisfaction          6709 non-null   int64 \n",
            " 4   JobSatisfaction                  6709 non-null   int64 \n",
            " 5   RelationshipSatisfaction         6709 non-null   int64 \n",
            " 6   TrainingOpportunitiesWithinYear  6709 non-null   int64 \n",
            " 7   TrainingOpportunitiesTaken       6709 non-null   int64 \n",
            " 8   WorkLifeBalance                  6709 non-null   int64 \n",
            " 9   SelfRating                       6709 non-null   int64 \n",
            " 10  ManagerRating                    6709 non-null   int64 \n",
            "dtypes: int64(8), object(3)\n",
            "memory usage: 576.7+ KB\n",
            "None\n"
          ]
        }
      ]
    },
    {
      "cell_type": "code",
      "source": [
        "print(df2.describe())"
      ],
      "metadata": {
        "colab": {
          "base_uri": "https://localhost:8080/"
        },
        "id": "5l8EVJYxyLY3",
        "outputId": "80150ed3-9c00-4a4f-bdaa-ea3786402568"
      },
      "execution_count": null,
      "outputs": [
        {
          "output_type": "stream",
          "name": "stdout",
          "text": [
            "       EnvironmentSatisfaction  JobSatisfaction  RelationshipSatisfaction  \\\n",
            "count              6709.000000      6709.000000               6709.000000   \n",
            "mean                  3.872559         3.430616                  3.427336   \n",
            "std                   0.940701         1.152565                  1.156753   \n",
            "min                   1.000000         1.000000                  1.000000   \n",
            "25%                   3.000000         2.000000                  2.000000   \n",
            "50%                   4.000000         3.000000                  3.000000   \n",
            "75%                   5.000000         4.000000                  4.000000   \n",
            "max                   5.000000         5.000000                  5.000000   \n",
            "\n",
            "       TrainingOpportunitiesWithinYear  TrainingOpportunitiesTaken  \\\n",
            "count                      6709.000000                 6709.000000   \n",
            "mean                          2.012968                    1.017290   \n",
            "std                           0.820310                    0.950316   \n",
            "min                           1.000000                    0.000000   \n",
            "25%                           1.000000                    0.000000   \n",
            "50%                           2.000000                    1.000000   \n",
            "75%                           3.000000                    2.000000   \n",
            "max                           3.000000                    3.000000   \n",
            "\n",
            "       WorkLifeBalance   SelfRating  ManagerRating  \n",
            "count      6709.000000  6709.000000    6709.000000  \n",
            "mean          3.414667     3.984051       3.473394  \n",
            "std           1.143961     0.816432       0.961738  \n",
            "min           1.000000     3.000000       2.000000  \n",
            "25%           2.000000     3.000000       3.000000  \n",
            "50%           3.000000     4.000000       3.000000  \n",
            "75%           4.000000     5.000000       4.000000  \n",
            "max           5.000000     5.000000       5.000000  \n"
          ]
        }
      ]
    },
    {
      "cell_type": "markdown",
      "source": [
        "## Check for Missing Values & Duplicates"
      ],
      "metadata": {
        "id": "RePLjJFAySnm"
      }
    },
    {
      "cell_type": "markdown",
      "source": [
        "Employee"
      ],
      "metadata": {
        "id": "yRtL8RAZyW3j"
      }
    },
    {
      "cell_type": "code",
      "source": [
        "print(df1.isnull().sum())"
      ],
      "metadata": {
        "colab": {
          "base_uri": "https://localhost:8080/"
        },
        "id": "vghBrTYVyYJ4",
        "outputId": "6c76d669-8c41-4602-8114-366c821e98e3"
      },
      "execution_count": null,
      "outputs": [
        {
          "output_type": "stream",
          "name": "stdout",
          "text": [
            "EmployeeID                 0\n",
            "FirstName                  0\n",
            "LastName                   0\n",
            "Gender                     0\n",
            "Age                        0\n",
            "BusinessTravel             0\n",
            "Department                 0\n",
            "DistanceFromHome (KM)      0\n",
            "State                      0\n",
            "Ethnicity                  0\n",
            "Education                  0\n",
            "EducationField             0\n",
            "JobRole                    0\n",
            "MaritalStatus              0\n",
            "Salary                     0\n",
            "StockOptionLevel           0\n",
            "OverTime                   0\n",
            "HireDate                   0\n",
            "Attrition                  0\n",
            "YearsAtCompany             0\n",
            "YearsInMostRecentRole      0\n",
            "YearsSinceLastPromotion    0\n",
            "YearsWithCurrManager       0\n",
            "dtype: int64\n"
          ]
        }
      ]
    },
    {
      "cell_type": "code",
      "source": [
        "print(df1.isna().sum())"
      ],
      "metadata": {
        "colab": {
          "base_uri": "https://localhost:8080/"
        },
        "outputId": "1b8c5387-4321-40f2-cedd-a004941d1e40",
        "id": "sa11e710yhZk"
      },
      "execution_count": null,
      "outputs": [
        {
          "output_type": "stream",
          "name": "stdout",
          "text": [
            "EmployeeID                 0\n",
            "FirstName                  0\n",
            "LastName                   0\n",
            "Gender                     0\n",
            "Age                        0\n",
            "BusinessTravel             0\n",
            "Department                 0\n",
            "DistanceFromHome (KM)      0\n",
            "State                      0\n",
            "Ethnicity                  0\n",
            "Education                  0\n",
            "EducationField             0\n",
            "JobRole                    0\n",
            "MaritalStatus              0\n",
            "Salary                     0\n",
            "StockOptionLevel           0\n",
            "OverTime                   0\n",
            "HireDate                   0\n",
            "Attrition                  0\n",
            "YearsAtCompany             0\n",
            "YearsInMostRecentRole      0\n",
            "YearsSinceLastPromotion    0\n",
            "YearsWithCurrManager       0\n",
            "dtype: int64\n"
          ]
        }
      ]
    },
    {
      "cell_type": "code",
      "source": [
        "print(df1.duplicated().sum())"
      ],
      "metadata": {
        "colab": {
          "base_uri": "https://localhost:8080/"
        },
        "id": "7RWoNofbybwz",
        "outputId": "3f290385-d2e8-4d31-c87e-903d4f4a5cd7"
      },
      "execution_count": null,
      "outputs": [
        {
          "output_type": "stream",
          "name": "stdout",
          "text": [
            "0\n"
          ]
        }
      ]
    },
    {
      "cell_type": "markdown",
      "source": [
        "Performance"
      ],
      "metadata": {
        "id": "agPIlBlbyk5b"
      }
    },
    {
      "cell_type": "code",
      "source": [
        "print(df2.isnull().sum())"
      ],
      "metadata": {
        "colab": {
          "base_uri": "https://localhost:8080/"
        },
        "id": "Fd28fDwnymNI",
        "outputId": "d182bd25-52b6-4fd6-bbc8-f12c5d9c54ba"
      },
      "execution_count": null,
      "outputs": [
        {
          "output_type": "stream",
          "name": "stdout",
          "text": [
            "PerformanceID                      0\n",
            "EmployeeID                         0\n",
            "ReviewDate                         0\n",
            "EnvironmentSatisfaction            0\n",
            "JobSatisfaction                    0\n",
            "RelationshipSatisfaction           0\n",
            "TrainingOpportunitiesWithinYear    0\n",
            "TrainingOpportunitiesTaken         0\n",
            "WorkLifeBalance                    0\n",
            "SelfRating                         0\n",
            "ManagerRating                      0\n",
            "dtype: int64\n"
          ]
        }
      ]
    },
    {
      "cell_type": "code",
      "source": [
        "print(df2.isna().sum())"
      ],
      "metadata": {
        "colab": {
          "base_uri": "https://localhost:8080/"
        },
        "id": "vTHkj704ypAk",
        "outputId": "4e10ac09-bf53-4577-f1f0-b2cd2802ff4f"
      },
      "execution_count": null,
      "outputs": [
        {
          "output_type": "stream",
          "name": "stdout",
          "text": [
            "PerformanceID                      0\n",
            "EmployeeID                         0\n",
            "ReviewDate                         0\n",
            "EnvironmentSatisfaction            0\n",
            "JobSatisfaction                    0\n",
            "RelationshipSatisfaction           0\n",
            "TrainingOpportunitiesWithinYear    0\n",
            "TrainingOpportunitiesTaken         0\n",
            "WorkLifeBalance                    0\n",
            "SelfRating                         0\n",
            "ManagerRating                      0\n",
            "dtype: int64\n"
          ]
        }
      ]
    },
    {
      "cell_type": "code",
      "source": [
        "print(df2.duplicated().sum())"
      ],
      "metadata": {
        "colab": {
          "base_uri": "https://localhost:8080/"
        },
        "id": "0-svmyrRys9A",
        "outputId": "f1006c19-9d37-4467-e8f3-3379e1a80127"
      },
      "execution_count": null,
      "outputs": [
        {
          "output_type": "stream",
          "name": "stdout",
          "text": [
            "0\n"
          ]
        }
      ]
    }
  ]
}